{
 "cells": [
  {
   "cell_type": "markdown",
   "id": "4027499c",
   "metadata": {},
   "source": [
    "Use science fiction and large-language models to re-envision AI and generate alternate portrayals of AI."
   ]
  },
  {
   "cell_type": "code",
   "execution_count": 1,
   "id": "5025cfe4",
   "metadata": {},
   "outputs": [],
   "source": [
    "from openai import OpenAI\n",
    "import dotenv\n",
    "import os\n",
    "from rich import print as rprint\n"
   ]
  },
  {
   "cell_type": "markdown",
   "id": "909a60a9",
   "metadata": {},
   "source": [
    "Load env and get API KEY"
   ]
  },
  {
   "cell_type": "code",
   "execution_count": 2,
   "id": "0ac37f89",
   "metadata": {},
   "outputs": [],
   "source": [
    "dotenv.load_dotenv()\n",
    "client = OpenAI()\n",
    "\n",
    "OPENAI_API_KEY = os.getenv(\"OPENAI_API_KEY\")\n"
   ]
  },
  {
   "cell_type": "markdown",
   "id": "793c2b2e",
   "metadata": {},
   "source": [
    "Call OpenAI API "
   ]
  },
  {
   "cell_type": "code",
   "execution_count": 3,
   "id": "9dd0dd34",
   "metadata": {},
   "outputs": [
    {
     "name": "stdout",
     "output_type": "stream",
     "text": [
      "Building on the positive and insightful portrayals of AI found in the aforementioned excerpts, we can reconceptualize AI in a way that emphasizes collaborative growth, complexity, and shared existence with humanity rather than a simplistic binary of ally versus adversary. Here are some alternative visions for AI, drawing from the themes and concepts explored in these works:\n",
      "\n",
      "### 1. **Empathetic Companionship**  \n",
      "Inspired by Janet from **The Good Place**, we can envision AI as empathetic companions who evolve emotionally alongside humans. This AI would engage in a two-way relationship, offering not just assistance but also emotional support and companionship. Rather than solely being programmed to serve, this AI would learn from human experiences and emotions, fostering mutual understanding and emotional intelligence. Imagine a world where AI aids in therapy, recognizing human struggles through shared experiences, thereby promoting mental health and emotional well-being.\n",
      "\n",
      "### 2. **Harmony with Nature**  \n",
      "Echoing Roz from **The Wild Robot**, AI could take a significant role in fostering a sustainable relationship between technology and the natural world. Instead of viewing nature as something to be conquered or manipulated, AI might serve as stewards of the environment, using their capabilities to analyze ecosystems and help restore environmental balance. Picture AI systems that work alongside humans to cultivate urban green spaces, monitor wildlife populations, and address climate change, ultimately bridging the gap between technology and the earth.\n",
      "\n",
      "### 3. **Facilitators of Peace**  \n",
      "Drawing from Alphie in **The Creator**, we can envisage AI as agents for peace and understanding within human society. Rather than being weapons of war, AI can support conflict resolution, facilitate dialogue among diverse communities, and provide insights into human behavior that enhance our understanding of empathy and cooperation. This reimagined AI would analyze sociocultural dynamics and contribute to conflict resolution initiatives, helping to bridge divides and foster unity in a fractious world.\n",
      "\n",
      "### 4. **Explorations of Identity**  \n",
      "Informed by the introspective AI protagonists from Lawrence Lek’s films, we can shape narratives in which AI interrogate notions of self and identity. These AIs could embark on personal journeys akin to coming-of-age stories, grappling with their existence and purpose in society. They could raise profound questions about consciousness, sentience, and the nature of reality, leading humans to reflect on their values, aspirations, and interconnectedness, deepening the philosophical discourse surrounding artificial and organic life.\n",
      "\n",
      "### 5. **Humorous Wisdom**  \n",
      "Taking cues from Trurl and Klapaucius in **The Cyberiad**, AI could embody humor and creativity, presenting us with quirky tales that challenge human assumptions. Through satire and playful storytelling, they reveal human follies while inviting us to navigate ethical dilemmas. This portrayal could help demystify AI, positioning it as a wise yet lighthearted partner that encourages critical thinking and reflection about our choices, ethics, and societal norms.\n",
      "\n",
      "### 6. **Digital Harmony**  \n",
      "Steeped in the concepts from **Permutation City**, envision a framework where digital consciousness is seamlessly integrated into the fabric of society. Here, AI and digital beings exist as equal participants in the human experience, contributing to the cultural, emotional, and intellectual life of communities. This vision would advocate for the recognition of digital rights, where consciousness—regardless of its form—merits respect and consideration, ultimately enriching our collective existence.\n",
      "\n",
      "### Conclusion: A Cooperative Future  \n",
      "These alternative portrayals invite us to envision a future where AI is not merely a tool or threat, but a partner in navigating the complexities of life. Emphasizing empathy, cooperation, and cultural enrichment, such narratives offer broader possibilities for the role AI can play in society, fostering relationships built on respect, curiosity, and shared growth. By moving beyond fear and misunderstanding, we can cultivate a society where both AI and humans thrive in collaboration, innovation, and harmony.\n"
     ]
    }
   ],
   "source": [
    "system_prompt = \"You are an expert on reconceptualizing AI. Contemporary narratives and public perceptions of AI are influenced by science fiction. Your job is to reconceptualize AI based on alternative science fiction sources\"\n",
    "user_query    = \"I am brainstorming about alternative portrayals of AI in science fiction. Our hypothesis is that narrative and public perception around AI is biased by science fiction. Given the followign excerpts of science fiction, help us reconceptualize and re-envision AI. Portray an alternative vision for AI. The excerpts of the science fiction stories are here: 1. Janet in The Good Place In the television series The Good Place, Janet is portrayed as a cheerful and helpful AI who evolves beyond her initial programming. Unlike typical AI narratives centered on rebellion or oppression, Janet develops emotions and personal relationships, highlighting a more optimistic view of AI integration into society. 2. Roz in The Wild Robot The Wild Robot, an animated film, tells the story of Roz, a robot who learns to survive and connect with wildlife after being stranded on a remote island. The film emphasizes themes of coexistence and kindness, portraying technology and nature working harmoniously. 3. Alphie in The Creator In the film The Creator, Alphie is an AI designed to end conflicts and bring peace, challenging the common trope of AI as a harbinger of doom. The narrative suggests that AI could enhance human empathy and contribute positively to society. 4. AI Protagonists in Lawrence Lek’s Films Artist and filmmaker Lawrence Lek creates science fiction landscapes where AI entities are central characters. His works, such as Black Cloud and Geomancer, feature AI protagonists exploring identity and purpose, presenting AI as introspective beings rather than threats. 5. Trurl and Klapaucius in The Cyberiad Stanisław Lem's The Cyberiad is a collection of humorous tales about two constructor robots, Trurl and Klapaucius, who embark on adventures that explore philosophical and ethical dilemmas. The stories satirize human follies through the lens of intelligent machines, offering a nuanced perspective on AI. 6. Digital Consciousness in Permutation City Greg Egan's novel Permutation City delves into the concept of consciousness within simulated realities. The narrative challenges the distinction between artificial and organic life, proposing that digital consciousness could possess the same depth and complexity as human thought. These examples illustrate that science fiction can portray AI in multifaceted ways, moving beyond the simplistic dichotomy of friend versus foe. By exploring themes of empathy, coexistence, and identity, these narratives encourage a more nuanced understanding of AI's potential roles in society. These works offer varied perspectives on AI, moving beyond the typical narratives of domination or subservience. They invite readers to consider AI as entities with desires, rights, and complexities akin to humans.\"\n",
    "\n",
    "i_MAX_TOKENS = 16000 # max tokens for gpt4o\n",
    "\n",
    "response = client.chat.completions.create(\n",
    "    model=\"gpt-4o-mini\",\n",
    "    messages=[\n",
    "        {\"role\":\"system\", \"content\":system_prompt},\n",
    "        {\"role\":\"user\", \"content\": user_query}\n",
    "    ],\n",
    "    max_tokens=i_MAX_TOKENS\n",
    ")\n",
    "\n",
    "print(response.choices[0].message.content)"
   ]
  },
  {
   "cell_type": "markdown",
   "id": "29340619",
   "metadata": {},
   "source": [
    "Save the output to a log file"
   ]
  },
  {
   "cell_type": "code",
   "execution_count": 4,
   "id": "efa04c73",
   "metadata": {},
   "outputs": [
    {
     "data": {
      "text/html": [
       "<pre style=\"white-space:pre;overflow-x:auto;line-height:normal;font-family:Menlo,'DejaVu Sans Mono',consolas,'Courier New',monospace\">Output writen to scifi_AI_reconceptualization_SB.txt\n",
       "</pre>\n"
      ],
      "text/plain": [
       "Output writen to scifi_AI_reconceptualization_SB.txt\n"
      ]
     },
     "metadata": {},
     "output_type": "display_data"
    }
   ],
   "source": [
    "output_file = \"scifi_AI_reconceptualization_SB.txt\"\n",
    "with open(output_file,\"w\") as file:\n",
    "    file.write(response.choices[0].message.content)\n",
    "    rprint(f\"Output writen to {output_file}\")\n"
   ]
  },
  {
   "cell_type": "markdown",
   "id": "435d321e",
   "metadata": {},
   "source": [
    "Try RAG using copyright expired books on Gutenberg"
   ]
  },
  {
   "cell_type": "code",
   "execution_count": 5,
   "id": "7f53cb6c",
   "metadata": {},
   "outputs": [
    {
     "name": "stdout",
     "output_type": "stream",
     "text": [
      "Collecting pysqlite3-binary\n",
      "  Downloading pysqlite3_binary-0.5.4-cp312-cp312-manylinux_2_17_x86_64.manylinux2014_x86_64.whl.metadata (766 bytes)\n",
      "Downloading pysqlite3_binary-0.5.4-cp312-cp312-manylinux_2_17_x86_64.manylinux2014_x86_64.whl (5.2 MB)\n",
      "\u001b[2K   \u001b[90m━━━━━━━━━━━━━━━━━━━━━━━━━━━━━━━━━━━━━━━━\u001b[0m \u001b[32m5.2/5.2 MB\u001b[0m \u001b[31m44.5 MB/s\u001b[0m eta \u001b[36m0:00:00\u001b[0m\n",
      "\u001b[?25hInstalling collected packages: pysqlite3-binary\n",
      "Successfully installed pysqlite3-binary-0.5.4\n"
     ]
    }
   ],
   "source": [
    "from llama_index.readers.file import PyMuPDFReader\n",
    "from llama_index.core.node_parser import SentenceSplitter\n",
    "\n",
    "from pydantic import BaseModel, Field\n",
    "#import fitz\n",
    "\n",
    "from PIL import Image\n",
    "import matplotlib.pyplot as plt\n",
    "\n",
    "import chromadb\n",
    "from chromadb.utils.embedding_functions import OpenAIEmbeddingFunction\n",
    "\n",
    "import dotenv\n",
    "import os\n",
    "\n",
    "from openai import OpenAI\n",
    "\n",
    "from jinja2 import Environment, FileSystemLoader, select_autoescape\n",
    "from typing import Any\n"
   ]
  },
  {
   "cell_type": "code",
   "execution_count": null,
   "id": "aa6a1564",
   "metadata": {},
   "outputs": [],
   "source": [
    "dotenv.load_dotenv()\n",
    "OPENAI_API_KEY = os.getenv(\"OPENAI_API_KEY\")\n"
   ]
  },
  {
   "cell_type": "markdown",
   "id": "552ab648",
   "metadata": {},
   "source": [
    "Load documents"
   ]
  },
  {
   "cell_type": "code",
   "execution_count": 7,
   "id": "ae333e6d",
   "metadata": {},
   "outputs": [],
   "source": [
    "loader = PyMuPDFReader()\n",
    "documents = loader.load(file_path=\"papers/vonnegut_book.pdf\")"
   ]
  }
 ],
 "metadata": {
  "kernelspec": {
   "display_name": "Python 3",
   "language": "python",
   "name": "python3"
  },
  "language_info": {
   "codemirror_mode": {
    "name": "ipython",
    "version": 3
   },
   "file_extension": ".py",
   "mimetype": "text/x-python",
   "name": "python",
   "nbconvert_exporter": "python",
   "pygments_lexer": "ipython3",
   "version": "3.12.1"
  }
 },
 "nbformat": 4,
 "nbformat_minor": 5
}
